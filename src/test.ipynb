{
 "cells": [
  {
   "cell_type": "markdown",
   "id": "13616565",
   "metadata": {},
   "source": [
    "Testing Script"
   ]
  },
  {
   "cell_type": "code",
   "execution_count": null,
   "id": "f53a0c39",
   "metadata": {
    "vscode": {
     "languageId": "plaintext"
    }
   },
   "outputs": [],
   "source": [
    "import pandas as pd"
   ]
  },
  {
   "cell_type": "code",
   "execution_count": null,
   "id": "62b5db52",
   "metadata": {
    "vscode": {
     "languageId": "plaintext"
    }
   },
   "outputs": [],
   "source": []
  }
 ],
 "metadata": {
  "language_info": {
   "name": "python"
  }
 },
 "nbformat": 4,
 "nbformat_minor": 5
}
